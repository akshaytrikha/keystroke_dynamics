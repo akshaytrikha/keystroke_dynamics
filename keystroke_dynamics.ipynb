{
 "cells": [
  {
   "cell_type": "markdown",
   "metadata": {},
   "source": [
    "# Required Imports and Setup"
   ]
  },
  {
   "cell_type": "code",
   "execution_count": 1,
   "metadata": {},
   "outputs": [],
   "source": [
    "import csv\n",
    "import pandas as pd\n",
    "import numpy as np \n",
    "from sklearn import tree      # for decision trees\n",
    "from sklearn import ensemble  # for random forests\n",
    "from matplotlib import pyplot as plt\n",
    "import matplotlib.cm as cm\n",
    "\n",
    "# different imports for different versions of scikit-learn\n",
    "try: \n",
    "    from sklearn.model_selection import cross_val_score \n",
    "except ImportError:\n",
    "    try:\n",
    "        from sklearn.cross_validation import cross_val_score\n",
    "    except:\n",
    "        print(\"No cross_val_score!\")\n",
    "        \n",
    "# read typing data into pandas dataframe\n",
    "# df = pd.read_csv(\"new_typing_data.csv\", error_bad_lines=False)"
   ]
  },
  {
   "cell_type": "markdown",
   "metadata": {},
   "source": [
    "# 1. Read typing data into a list"
   ]
  },
  {
   "cell_type": "markdown",
   "metadata": {},
   "source": [
    "First read data from csv into a list"
   ]
  },
  {
   "cell_type": "code",
   "execution_count": 2,
   "metadata": {},
   "outputs": [],
   "source": [
    "#\n",
    "# readcsv is a starting point - it returns the rows from a standard csv file...\n",
    "#\n",
    "def readcsv( csv_file_name ):\n",
    "    \"\"\" readcsv takes as\n",
    "         + input:  csv_file_name, the name of a csv file\n",
    "        and returns\n",
    "         + output: a list of lists, each inner list is one row of the csv\n",
    "           all data items are strings; empty cells are empty strings\n",
    "    \"\"\"\n",
    "    try:\n",
    "        csvfile = open( csv_file_name, newline='' )  # open for reading\n",
    "        csvrows = csv.reader( csvfile )              # creates a csvrows object\n",
    "\n",
    "        all_rows = []                                # we need to read the csv file\n",
    "        for row in csvrows:                          # into our own Python data structure\n",
    "            all_rows.append( row )                   # adds only the word to our list\n",
    "\n",
    "        del csvrows                                  # acknowledge csvrows is gone!\n",
    "        csvfile.close()                              # and close the file\n",
    "        return all_rows                              # return the list of lists\n",
    "\n",
    "    except FileNotFoundError as e:\n",
    "        print(\"File not found: \", e)\n",
    "        return []\n",
    "    \n",
    "data = readcsv(\"test_data.csv\")"
   ]
  },
  {
   "cell_type": "markdown",
   "metadata": {},
   "source": [
    "Clean data so that it correctly starts with the \".\" character"
   ]
  },
  {
   "cell_type": "code",
   "execution_count": 3,
   "metadata": {},
   "outputs": [],
   "source": [
    "for i in range(len(data)):\n",
    "    data[i] = data[i][3:-1]"
   ]
  },
  {
   "cell_type": "code",
   "execution_count": 4,
   "metadata": {},
   "outputs": [
    {
     "name": "stdout",
     "output_type": "stream",
     "text": [
      "[\"('.', 6.011002074, 'pressed')\", \"('.', 6.123425249, 'released')\", \"('t', 6.210437133, 'pressed')\", \"('t', 6.282306537, 'released')\", \"('i', 6.290148006, 'pressed')\", \"('i', 6.358390612, 'released')\", \"('e', 6.376343242, 'pressed')\", \"('e', 6.444386616, 'released')\", \"('5', 6.568501488, 'pressed')\", \"('5', 6.640304912, 'released')\", \"('Key.caps_lock', 6.848932655, 'pressed')\", \"('Key.caps_lock', 6.848944598, 'released')\", \"('R', 6.930270748, 'pressed')\", \"('Key.caps_lock', 6.989199045, 'pressed')\", \"('Key.caps_lock', 6.989210938, 'released')\", \"('r', 6.993649665, 'released')\", \"('o', 7.171154254, 'pressed')\", \"('o', 7.27922604, 'released')\", \"('a', 7.291250716, 'pressed')\", \"('a', 7.367345513, 'released')\", \"('n', 7.441349145, 'pressed')\", \"('l', 7.521346095, 'pressed')\", \"('n', 7.545366845, 'released')\", \"('e', 7.605384269, 'pressed')\", \"('l', 7.623357665, 'released')\", \"('e', 7.669298627, 'released')\"]\n",
      "\n",
      "[\"('.', 8.38986342, 'pressed')\", \"('.', 8.490285249, 'released')\", \"('t', 8.575306964, 'pressed')\", \"('t', 8.651273396, 'released')\", \"('i', 8.673271067, 'pressed')\", \"('i', 8.733186876, 'released')\", \"('e', 8.749213149, 'pressed')\", \"('e', 8.825263146, 'released')\", \"('5', 9.168222791, 'pressed')\", \"('5', 9.240097638, 'released')\", \"('Key.caps_lock', 9.485157417, 'pressed')\", \"('Key.caps_lock', 9.485164737, 'released')\", \"('R', 9.575046827, 'pressed')\", \"('Key.caps_lock', 9.662364231, 'pressed')\", \"('Key.caps_lock', 9.662376271, 'released')\", \"('r', 9.662669362, 'released')\", \"('o', 9.817902213, 'pressed')\", \"('a', 9.874697478, 'pressed')\", \"('o', 9.892880675, 'released')\", \"('a', 9.970176715, 'released')\", \"('n', 10.005251732, 'pressed')\", \"('l', 10.085114466, 'pressed')\", \"('n', 10.108561727, 'released')\", \"('l', 10.177101876, 'released')\", \"('e', 10.185113746, 'pressed')\", \"('e', 10.265192567, 'released')\"]\n",
      "\n",
      "[\"('.', 10.939570945, 'pressed')\", \"('.', 11.036128041, 'released')\", \"('t', 11.126088763, 'pressed')\", \"('t', 11.201937899, 'released')\", \"('i', 11.214059974, 'pressed')\", \"('i', 11.270151352, 'released')\", \"('e', 11.308126346, 'pressed')\", \"('e', 11.372180124, 'released')\", \"('5', 11.635128448, 'pressed')\", \"('5', 11.703120939, 'released')\", \"('Key.caps_lock', 11.922633535, 'pressed')\", \"('Key.caps_lock', 11.922646431, 'released')\", \"('R', 11.989133827, 'pressed')\", \"('Key.caps_lock', 12.087871837, 'pressed')\", \"('Key.caps_lock', 12.08788583, 'released')\", \"('r', 12.088073499, 'released')\", \"('o', 12.172132195, 'pressed')\", \"('a', 12.264065269, 'pressed')\", \"('o', 12.267940661, 'released')\", \"('a', 12.360162328, 'released')\", \"('n', 12.420651738, 'pressed')\", \"('l', 12.481062185, 'pressed')\", \"('n', 12.512580228, 'released')\", \"('l', 12.580987824, 'released')\", \"('e', 12.584930366, 'pressed')\", \"('e', 12.649091624, 'released')\"]\n",
      "\n",
      "[\"('.', 13.318962387, 'pressed')\", \"('.', 13.423125168, 'released')\", \"('t', 13.460004321, 'pressed')\", \"('t', 13.532024457, 'released')\", \"('i', 13.559893515, 'pressed')\", \"('i', 13.620012901, 'released')\", \"('e', 13.644954794, 'pressed')\", \"('e', 13.71301458, 'released')\", \"('5', 13.855960037, 'pressed')\", \"('5', 13.931836037, 'released')\", \"('Key.caps_lock', 14.143688095, 'pressed')\", \"('Key.caps_lock', 14.143696783, 'released')\", \"('R', 14.200354497, 'pressed')\", \"('R', 14.264273401, 'released')\", \"('Key.caps_lock', 14.271281684, 'pressed')\", \"('Key.caps_lock', 14.271287917, 'released')\", \"('o', 14.388961733, 'pressed')\", \"('o', 14.456960777, 'released')\", \"('a', 14.460893553, 'pressed')\", \"('a', 14.556988773, 'released')\", \"('n', 14.587137585, 'pressed')\", \"('l', 14.666933137, 'pressed')\", \"('n', 14.694717227, 'released')\", \"('e', 14.750897147, 'pressed')\", \"('l', 14.762491638, 'released')\", \"('e', 14.834963225, 'released')\"]\n",
      "\n"
     ]
    }
   ],
   "source": [
    "for row in data:\n",
    "    print(row)\n",
    "    print()"
   ]
  },
  {
   "cell_type": "markdown",
   "metadata": {},
   "source": [
    "Visualise the order in which the keys were pressed and released"
   ]
  },
  {
   "cell_type": "code",
   "execution_count": 5,
   "metadata": {},
   "outputs": [
    {
     "name": "stdout",
     "output_type": "stream",
     "text": [
      "..ttiiee55KKRKKrooaanlnele\n",
      "\n",
      "..ttiiee55KKRKKroaoanlnlee\n",
      "\n",
      "..ttiiee55KKRKKroaoanlnlee\n",
      "\n",
      "..ttiiee55KKRRKKooaanlnele\n",
      "\n"
     ]
    }
   ],
   "source": [
    "stringlist = []\n",
    "\n",
    "for row in data:\n",
    "    stringlist += [[row[x][2] for x in range(len(row))]]\n",
    "\n",
    "# print(stringlist)\n",
    "\n",
    "for row in stringlist:\n",
    "    output = \"\"\n",
    "    for character in row:\n",
    "        output += character\n",
    "    print(output)\n",
    "    print()\n",
    "\n"
   ]
  },
  {
   "cell_type": "markdown",
   "metadata": {},
   "source": [
    "Convert str in rows to tuples"
   ]
  },
  {
   "cell_type": "code",
   "execution_count": 6,
   "metadata": {},
   "outputs": [
    {
     "name": "stdout",
     "output_type": "stream",
     "text": [
      "('.', 6.011002074, 'pressed')\n",
      "('.', 6.123425249, 'released')\n",
      "('t', 6.210437133, 'pressed')\n",
      "('t', 6.282306537, 'released')\n",
      "('i', 6.290148006, 'pressed')\n",
      "('i', 6.358390612, 'released')\n",
      "('e', 6.376343242, 'pressed')\n",
      "('e', 6.444386616, 'released')\n",
      "('5', 6.568501488, 'pressed')\n",
      "('5', 6.640304912, 'released')\n",
      "('Key.caps_lock', 6.848932655, 'pressed')\n",
      "('Key.caps_lock', 6.848944598, 'released')\n",
      "('R', 6.930270748, 'pressed')\n",
      "('Key.caps_lock', 6.989199045, 'pressed')\n",
      "('Key.caps_lock', 6.989210938, 'released')\n",
      "('r', 6.993649665, 'released')\n",
      "('o', 7.171154254, 'pressed')\n",
      "('o', 7.27922604, 'released')\n",
      "('a', 7.291250716, 'pressed')\n",
      "('a', 7.367345513, 'released')\n",
      "('n', 7.441349145, 'pressed')\n",
      "('l', 7.521346095, 'pressed')\n",
      "('n', 7.545366845, 'released')\n",
      "('e', 7.605384269, 'pressed')\n",
      "('l', 7.623357665, 'released')\n",
      "('e', 7.669298627, 'released')\n",
      "('.', 8.38986342, 'pressed')\n",
      "('.', 8.490285249, 'released')\n",
      "('t', 8.575306964, 'pressed')\n",
      "('t', 8.651273396, 'released')\n",
      "('i', 8.673271067, 'pressed')\n",
      "('i', 8.733186876, 'released')\n",
      "('e', 8.749213149, 'pressed')\n",
      "('e', 8.825263146, 'released')\n",
      "('5', 9.168222791, 'pressed')\n",
      "('5', 9.240097638, 'released')\n",
      "('Key.caps_lock', 9.485157417, 'pressed')\n",
      "('Key.caps_lock', 9.485164737, 'released')\n",
      "('R', 9.575046827, 'pressed')\n",
      "('Key.caps_lock', 9.662364231, 'pressed')\n",
      "('Key.caps_lock', 9.662376271, 'released')\n",
      "('r', 9.662669362, 'released')\n",
      "('o', 9.817902213, 'pressed')\n",
      "('a', 9.874697478, 'pressed')\n",
      "('o', 9.892880675, 'released')\n",
      "('a', 9.970176715, 'released')\n",
      "('n', 10.005251732, 'pressed')\n",
      "('l', 10.085114466, 'pressed')\n",
      "('n', 10.108561727, 'released')\n",
      "('l', 10.177101876, 'released')\n",
      "('e', 10.185113746, 'pressed')\n",
      "('e', 10.265192567, 'released')\n",
      "('.', 10.939570945, 'pressed')\n",
      "('.', 11.036128041, 'released')\n",
      "('t', 11.126088763, 'pressed')\n",
      "('t', 11.201937899, 'released')\n",
      "('i', 11.214059974, 'pressed')\n",
      "('i', 11.270151352, 'released')\n",
      "('e', 11.308126346, 'pressed')\n",
      "('e', 11.372180124, 'released')\n",
      "('5', 11.635128448, 'pressed')\n",
      "('5', 11.703120939, 'released')\n",
      "('Key.caps_lock', 11.922633535, 'pressed')\n",
      "('Key.caps_lock', 11.922646431, 'released')\n",
      "('R', 11.989133827, 'pressed')\n",
      "('Key.caps_lock', 12.087871837, 'pressed')\n",
      "('Key.caps_lock', 12.08788583, 'released')\n",
      "('r', 12.088073499, 'released')\n",
      "('o', 12.172132195, 'pressed')\n",
      "('a', 12.264065269, 'pressed')\n",
      "('o', 12.267940661, 'released')\n",
      "('a', 12.360162328, 'released')\n",
      "('n', 12.420651738, 'pressed')\n",
      "('l', 12.481062185, 'pressed')\n",
      "('n', 12.512580228, 'released')\n",
      "('l', 12.580987824, 'released')\n",
      "('e', 12.584930366, 'pressed')\n",
      "('e', 12.649091624, 'released')\n",
      "('.', 13.318962387, 'pressed')\n",
      "('.', 13.423125168, 'released')\n",
      "('t', 13.460004321, 'pressed')\n",
      "('t', 13.532024457, 'released')\n",
      "('i', 13.559893515, 'pressed')\n",
      "('i', 13.620012901, 'released')\n",
      "('e', 13.644954794, 'pressed')\n",
      "('e', 13.71301458, 'released')\n",
      "('5', 13.855960037, 'pressed')\n",
      "('5', 13.931836037, 'released')\n",
      "('Key.caps_lock', 14.143688095, 'pressed')\n",
      "('Key.caps_lock', 14.143696783, 'released')\n",
      "('R', 14.200354497, 'pressed')\n",
      "('R', 14.264273401, 'released')\n",
      "('Key.caps_lock', 14.271281684, 'pressed')\n",
      "('Key.caps_lock', 14.271287917, 'released')\n",
      "('o', 14.388961733, 'pressed')\n",
      "('o', 14.456960777, 'released')\n",
      "('a', 14.460893553, 'pressed')\n",
      "('a', 14.556988773, 'released')\n",
      "('n', 14.587137585, 'pressed')\n",
      "('l', 14.666933137, 'pressed')\n",
      "('n', 14.694717227, 'released')\n",
      "('e', 14.750897147, 'pressed')\n",
      "('l', 14.762491638, 'released')\n",
      "('e', 14.834963225, 'released')\n"
     ]
    }
   ],
   "source": [
    "new_data = []\n",
    "\n",
    "for row in data:\n",
    "    new_data_row = []\n",
    "    for datapoint in row:\n",
    "        new_data_row.append(eval(datapoint))\n",
    "        print(datapoint)\n",
    "    new_data.append(new_data_row)\n",
    "    \n",
    "data = new_data "
   ]
  },
  {
   "cell_type": "markdown",
   "metadata": {},
   "source": [
    "# 2. Feature Engineering"
   ]
  },
  {
   "cell_type": "markdown",
   "metadata": {},
   "source": [
    "Extract the following features from the data:\n",
    "1. Key hold time (total time that a key is held down)\n",
    "2. Keydown-Keydown time (time between pressing of consecutive keys)\n",
    "3. Keyup-Keydown time (time between the release of one key and the press of next key)"
   ]
  },
  {
   "cell_type": "markdown",
   "metadata": {},
   "source": [
    "### 1. First finding key hold times for a given data row:"
   ]
  },
  {
   "cell_type": "code",
   "execution_count": 77,
   "metadata": {},
   "outputs": [],
   "source": [
    "def key_hold_times(datarow):\n",
    "    output = []\n",
    "    \n",
    "    # loop through all tuples in data row\n",
    "    for i in range(len(datarow)):\n",
    "        # find only pairs for keys that are pressed\n",
    "        if datarow[i][2] == \"pressed\":\n",
    "            current_char = datarow[i][0].lower()\n",
    "            # start looking for other half of pair from next index onwards\n",
    "            for j in range(i + 1, len(datarow)):\n",
    "                next_char = datarow[j][0].lower()\n",
    "                # if they match, record differences in time\n",
    "                if next_char == current_char:\n",
    "                    output.append((current_char, float(datarow[j][1]) - float(datarow[i][1])))\n",
    "                    break\n",
    "                    \n",
    "    return output"
   ]
  },
  {
   "cell_type": "markdown",
   "metadata": {},
   "source": [
    "Loop and print differences in key hold times between different data samples to make sure that they are small"
   ]
  },
  {
   "cell_type": "code",
   "execution_count": 107,
   "metadata": {},
   "outputs": [
    {
     "name": "stdout",
     "output_type": "stream",
     "text": [
      "[('.', 0.11242317499999999), ('t', 0.07186940400000008), ('i', 0.0682426060000001), ('e', 0.06804337400000016), ('5', 0.0718034240000005), ('key.caps_lock', 1.1943000000513848e-05), ('r', 0.06337891700000053), ('key.caps_lock', 1.1892999999929543e-05), ('o', 0.108071786), ('a', 0.07609479699999966), ('n', 0.10401769999999999), ('l', 0.10201157000000016), ('e', 0.0639143579999999)]\n",
      "differences in hold times between sample 0 and sample 1\n",
      ". 0.012\n",
      "t 0.0041\n",
      "i 0.00833\n",
      "e 0.00801\n",
      "5 7e-05\n",
      "key.caps_lock 0.0\n",
      "r 0.02424\n",
      "key.caps_lock 0.0\n",
      "o 0.03309\n",
      "a 0.01938\n",
      "n 0.00071\n",
      "l 0.01002\n",
      "e 0.01616\n",
      "\n",
      "differences in hold times between sample 1 and sample 2\n",
      ". 0.00386\n",
      "t 0.00012\n",
      "i 0.00382\n",
      "e 0.012\n",
      "5 0.00388\n",
      "key.caps_lock 1e-05\n",
      "r 0.01132\n",
      "key.caps_lock 0.0\n",
      "o 0.02083\n",
      "a 0.00062\n",
      "n 0.01138\n",
      "l 0.00794\n",
      "e 0.01592\n"
     ]
    }
   ],
   "source": [
    "hold0 = key_hold_times(data[0])\n",
    "\n",
    "hold1 = key_hold_times(data[1])\n",
    "\n",
    "hold2 = key_hold_times(data[2])\n",
    "\n",
    "print(\"differences in hold times between sample 0 and sample 1\")\n",
    "for i in range(len(hold0)):\n",
    "    print(hold0[i][0], np.abs(round(hold0[i][1] - hold1[i][1], 5)))\n",
    "    \n",
    "print(\"\\ndifferences in hold times between sample 1 and sample 2\")\n",
    "for i in range(len(hold0)):\n",
    "    print(hold1[i][0], np.abs(round(hold1[i][1] - hold2[i][1], 5)))"
   ]
  },
  {
   "cell_type": "markdown",
   "metadata": {},
   "source": [
    "Great, now we can confirm that hold times are a repeatable charactericstic of the way people type"
   ]
  },
  {
   "cell_type": "markdown",
   "metadata": {},
   "source": []
  },
  {
   "cell_type": "code",
   "execution_count": null,
   "metadata": {},
   "outputs": [],
   "source": []
  },
  {
   "cell_type": "code",
   "execution_count": null,
   "metadata": {},
   "outputs": [],
   "source": []
  },
  {
   "cell_type": "code",
   "execution_count": null,
   "metadata": {},
   "outputs": [],
   "source": []
  }
 ],
 "metadata": {
  "kernelspec": {
   "display_name": "Python 3",
   "language": "python",
   "name": "python3"
  },
  "language_info": {
   "codemirror_mode": {
    "name": "ipython",
    "version": 3
   },
   "file_extension": ".py",
   "mimetype": "text/x-python",
   "name": "python",
   "nbconvert_exporter": "python",
   "pygments_lexer": "ipython3",
   "version": "3.7.6"
  }
 },
 "nbformat": 4,
 "nbformat_minor": 4
}
